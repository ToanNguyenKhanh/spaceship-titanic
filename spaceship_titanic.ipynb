{
  "nbformat": 4,
  "nbformat_minor": 0,
  "metadata": {
    "colab": {
      "provenance": []
    },
    "kernelspec": {
      "name": "python3",
      "display_name": "Python 3"
    },
    "language_info": {
      "name": "python"
    }
  },
  "cells": [
    {
      "cell_type": "code",
      "source": [
        "from google.colab import drive\n",
        "drive.mount('/content/drive')\n"
      ],
      "metadata": {
        "id": "PvgSpdeNI6Gu",
        "colab": {
          "base_uri": "https://localhost:8080/"
        },
        "outputId": "b87368df-700a-4002-a964-da2d069db38b"
      },
      "execution_count": 2,
      "outputs": [
        {
          "output_type": "stream",
          "name": "stdout",
          "text": [
            "Drive already mounted at /content/drive; to attempt to forcibly remount, call drive.mount(\"/content/drive\", force_remount=True).\n"
          ]
        }
      ]
    },
    {
      "cell_type": "markdown",
      "source": [
        "# Import lib"
      ],
      "metadata": {
        "id": "6BHs3vcNGEgR"
      }
    },
    {
      "cell_type": "code",
      "source": [
        "import matplotlib.pyplot as plt\n",
        "import seaborn as sns\n",
        "\n",
        "import pandas as pd\n",
        "import seaborn as sns\n",
        "import matplotlib.pyplot as plt\n",
        "from sklearn.preprocessing import StandardScaler, OneHotEncoder, OrdinalEncoder\n",
        "from sklearn.pipeline import Pipeline\n",
        "from sklearn.impute import SimpleImputer\n",
        "from sklearn.compose import ColumnTransformer\n",
        "from sklearn.ensemble import RandomForestClassifier\n",
        "from sklearn.linear_model import LinearRegression, LogisticRegression\n",
        "from sklearn.metrics import mean_squared_error, mean_absolute_error, r2_score\n",
        "from lazypredict.Supervised import LazyRegressor, LazyClassifier\n",
        "from sklearn.model_selection import GridSearchCV\n",
        "from sklearn.model_selection import train_test_split, RandomizedSearchCV\n",
        "from sklearn.metrics import classification_report"
      ],
      "metadata": {
        "id": "oYDtalpIKmfA"
      },
      "execution_count": 153,
      "outputs": []
    },
    {
      "cell_type": "markdown",
      "source": [
        "Import Dataset"
      ],
      "metadata": {
        "id": "TqQoWfcZGG7a"
      }
    },
    {
      "cell_type": "code",
      "execution_count": 116,
      "metadata": {
        "id": "OAd-KNkkIBl4",
        "colab": {
          "base_uri": "https://localhost:8080/"
        },
        "outputId": "f4441fdb-1fa9-4a04-f80e-1684a64b673c"
      },
      "outputs": [
        {
          "output_type": "stream",
          "name": "stdout",
          "text": [
            "<class 'pandas.core.frame.DataFrame'>\n",
            "RangeIndex: 8693 entries, 0 to 8692\n",
            "Data columns (total 14 columns):\n",
            " #   Column        Non-Null Count  Dtype  \n",
            "---  ------        --------------  -----  \n",
            " 0   PassengerId   8693 non-null   object \n",
            " 1   HomePlanet    8492 non-null   object \n",
            " 2   CryoSleep     8476 non-null   object \n",
            " 3   Cabin         8494 non-null   object \n",
            " 4   Destination   8511 non-null   object \n",
            " 5   Age           8514 non-null   float64\n",
            " 6   VIP           8490 non-null   object \n",
            " 7   RoomService   8512 non-null   float64\n",
            " 8   FoodCourt     8510 non-null   float64\n",
            " 9   ShoppingMall  8485 non-null   float64\n",
            " 10  Spa           8510 non-null   float64\n",
            " 11  VRDeck        8505 non-null   float64\n",
            " 12  Name          8493 non-null   object \n",
            " 13  Transported   8693 non-null   bool   \n",
            "dtypes: bool(1), float64(6), object(7)\n",
            "memory usage: 891.5+ KB\n",
            "None\n"
          ]
        }
      ],
      "source": [
        "test = pd.read_csv(\"/content/drive/MyDrive/Data Science/Kaggle Competition/Spaceship_titanic/test.csv\")\n",
        "train = pd.read_csv(\"/content/drive/MyDrive/Data Science/Kaggle Competition/Spaceship_titanic/train.csv\")\n",
        "# print(test.info())\n",
        "print(train.info())"
      ]
    },
    {
      "cell_type": "code",
      "source": [
        "missing_train = train.isnull().sum()\n",
        "missing_test = test.isnull().sum()\n",
        "\n",
        "print(\"Percentage Missing train data\\n\",train.isnull().mean() * 100,)\n",
        "print(\"=\"*20)\n",
        "print(\"Percentage Missing of test data\\n\", test.isnull().mean() * 100)\n",
        "# print(missing_train)\n",
        "# print(missing_test)\n",
        "\n",
        "\n",
        "\n",
        "# Vẽ heatmap cho dữ liệu bị thiếu|\n",
        "# plt.figure(figsize=(12, 8))\n",
        "# sns.heatmap(train.isnull(), cbar=False, cmap='viridis', yticklabels=False)\n",
        "# plt.title('Visualization of Missing Data')\n",
        "# plt.show()"
      ],
      "metadata": {
        "colab": {
          "base_uri": "https://localhost:8080/"
        },
        "id": "XzxxR5xDF3DR",
        "outputId": "d2c20c58-3307-4e2a-f0c3-35cf278abab6"
      },
      "execution_count": 117,
      "outputs": [
        {
          "output_type": "stream",
          "name": "stdout",
          "text": [
            "Percentage Missing train data\n",
            " PassengerId    0.00\n",
            "HomePlanet     2.31\n",
            "CryoSleep      2.50\n",
            "Cabin          2.29\n",
            "Destination    2.09\n",
            "Age            2.06\n",
            "VIP            2.34\n",
            "RoomService    2.08\n",
            "FoodCourt      2.11\n",
            "ShoppingMall   2.39\n",
            "Spa            2.11\n",
            "VRDeck         2.16\n",
            "Name           2.30\n",
            "Transported    0.00\n",
            "dtype: float64\n",
            "====================\n",
            "Percentage Missing of test data\n",
            " PassengerId    0.00\n",
            "HomePlanet     2.03\n",
            "CryoSleep      2.17\n",
            "Cabin          2.34\n",
            "Destination    2.15\n",
            "Age            2.13\n",
            "VIP            2.17\n",
            "RoomService    1.92\n",
            "FoodCourt      2.48\n",
            "ShoppingMall   2.29\n",
            "Spa            2.36\n",
            "VRDeck         1.87\n",
            "Name           2.20\n",
            "dtype: float64\n"
          ]
        }
      ]
    },
    {
      "cell_type": "markdown",
      "source": [
        "# Checking balanced data or not"
      ],
      "metadata": {
        "id": "6eGhArCAHQay"
      }
    },
    {
      "cell_type": "code",
      "source": [
        "class_counts = train['Transported'].value_counts()\n",
        "print(class_counts)"
      ],
      "metadata": {
        "colab": {
          "base_uri": "https://localhost:8080/"
        },
        "id": "aNPnphx4F8cK",
        "outputId": "b6120fbe-3c5f-4a30-e580-f13ded4a6ee0"
      },
      "execution_count": 118,
      "outputs": [
        {
          "output_type": "stream",
          "name": "stdout",
          "text": [
            "True     4378\n",
            "False    4315\n",
            "Name: Transported, dtype: int64\n"
          ]
        }
      ]
    },
    {
      "cell_type": "code",
      "source": [
        "plt.figure(figsize=(10, 6))\n",
        "sns.countplot(data=train, x='Transported')\n",
        "plt.title('Class Distribution')\n",
        "plt.show()\n"
      ],
      "metadata": {
        "colab": {
          "base_uri": "https://localhost:8080/",
          "height": 564
        },
        "id": "3nh2bTpCHC6j",
        "outputId": "4c06d009-32f5-4999-8307-d752040e491c"
      },
      "execution_count": 119,
      "outputs": [
        {
          "output_type": "display_data",
          "data": {
            "text/plain": [
              "<Figure size 1000x600 with 1 Axes>"
            ],
            "image/png": "[encoded data removed]"
          },
          "metadata": {}
        }
      ]
    },
    {
      "cell_type": "code",
      "source": [
        "sns.heatmap(train.corr(), annot=True)\n",
        "plt.show()"
      ],
      "metadata": {
        "colab": {
          "base_uri": "https://localhost:8080/",
          "height": 515
        },
        "id": "pTKTVWG9HGY-",
        "outputId": "db6109a2-f08b-459d-e8e6-b25ea12434fd"
      },
      "execution_count": 120,
      "outputs": [
        {
          "output_type": "display_data",
          "data": {
            "text/plain": [
              "<Figure size 640x480 with 2 Axes>"
            ],
            "image/png": "[encoded data removed]"
          },
          "metadata": {}
        }
      ]
    },
    {
      "cell_type": "markdown",
      "source": [
        "Biểu đồ corr yếu nên khả năng cao xài model tuyến tính sẽ cho kết quả không được tốt"
      ],
      "metadata": {
        "id": "hwS5FDCqHzVf"
      }
    },
    {
      "cell_type": "code",
      "source": [
        "target = 'Transported'\n",
        "x = train.drop([target, \"PassengerId\", \"Name\", \"Cabin\"], axis = 1)\n",
        "y = train[target]\n",
        "\n",
        "X_train, X_test, y_train, y_test = train_test_split(x, y, test_size = 0.2, random_state = 42)\n",
        "print(y_train.shape)\n",
        "print(X_train.shape)\n"
      ],
      "metadata": {
        "colab": {
          "base_uri": "https://localhost:8080/"
        },
        "id": "qWgk4xYRHrTG",
        "outputId": "71da8a69-44bb-4ab7-b21b-b5b606943ac0"
      },
      "execution_count": 144,
      "outputs": [
        {
          "output_type": "stream",
          "name": "stdout",
          "text": [
            "(6954,)\n",
            "(6954, 10)\n"
          ]
        }
      ]
    },
    {
      "cell_type": "markdown",
      "source": [
        "#Pipeline:\n",
        "- Preprocessing\n",
        "- Imputer\n",
        "- Transformer"
      ],
      "metadata": {
        "id": "2XFmHD2JH86T"
      }
    },
    {
      "cell_type": "code",
      "source": [
        "numerical_transformer = Pipeline(steps=[\n",
        "    ('imputer', SimpleImputer(strategy=\"median\")),\n",
        "    ('scaler', StandardScaler())\n",
        "])\n"
      ],
      "metadata": {
        "id": "6MhhBPW3LqiR"
      },
      "execution_count": 122,
      "outputs": []
    },
    {
      "cell_type": "code",
      "source": [
        "print((X_train[\"HomePlanet\"].unique()))\n",
        "print((X_train[\"Destination\"].unique()))\n",
        "print((X_train[\"VIP\"].unique()))\n"
      ],
      "metadata": {
        "colab": {
          "base_uri": "https://localhost:8080/"
        },
        "id": "t2gClS3vMvq9",
        "outputId": "a5eb4730-b1b4-4a22-dd73-6df4fafdbec4"
      },
      "execution_count": 123,
      "outputs": [
        {
          "output_type": "stream",
          "name": "stdout",
          "text": [
            "['Earth' 'Europa' 'Mars' nan]\n",
            "['TRAPPIST-1e' '55 Cancri e' 'PSO J318.5-22' nan]\n",
            "[False True nan]\n"
          ]
        }
      ]
    },
    {
      "cell_type": "code",
      "source": [
        "# HomePlanet_vals = ['Earth','Europa','Mars']\n",
        "# CryoSleep_vals = X_train[\"CryoSleep\"].unique()\n",
        "# Destination_vals = X_train[\"Destination\"].unique()\n",
        "# VIP_vals = X_train[\"VIP\"].unique()\n",
        "\n",
        "HomePlanet_vals = ['Earth','Europa','Mars']\n",
        "CryoSleep_vals = X_train[\"CryoSleep\"].dropna().unique().tolist()\n",
        "Destination_vals = X_train[\"Destination\"].dropna().unique().tolist()\n",
        "VIP_vals = X_train[\"VIP\"].dropna().unique().tolist()\n",
        "print(HomePlanet_vals)\n",
        "print(CryoSleep_vals)\n",
        "print(Destination_vals)\n",
        "print(VIP_vals )"
      ],
      "metadata": {
        "id": "bLcCbjFIL7_n",
        "colab": {
          "base_uri": "https://localhost:8080/"
        },
        "outputId": "85a57b32-ef49-4438-9a44-affa642b8b1f"
      },
      "execution_count": 124,
      "outputs": [
        {
          "output_type": "stream",
          "name": "stdout",
          "text": [
            "['Earth', 'Europa', 'Mars']\n",
            "[False, True]\n",
            "['TRAPPIST-1e', '55 Cancri e', 'PSO J318.5-22']\n",
            "[False, True]\n"
          ]
        }
      ]
    },
    {
      "cell_type": "code",
      "source": [
        "ordinal_transformer = Pipeline(steps=[\n",
        "    ('imputer', SimpleImputer(strategy=\"most_frequent\")),  # Xử lý missing value\n",
        "    # ('scaler', OrdinalEncoder(categories=[HomePlanet_vals, X_train[\"CryoSleep\"].unique(), X_train[\"Destination\"].unique(), X_train[\"VIP\"].unique()]))\n",
        "    ('scaler', OrdinalEncoder(categories=[CryoSleep_vals , VIP_vals]))    # Biến đổi dữ liệu\n",
        "])"
      ],
      "metadata": {
        "id": "Z28PPYrpRgwm"
      },
      "execution_count": 125,
      "outputs": []
    },
    {
      "cell_type": "code",
      "source": [
        "norminal_transformer = Pipeline(steps=[\n",
        "    ('imputer', SimpleImputer(strategy=\"most_frequent\")),  # Xử lý missing value\n",
        "    ('scaler', OneHotEncoder())  # Biến đổi dữ liệu\n",
        "])"
      ],
      "metadata": {
        "id": "s-Pow9VpR6OC"
      },
      "execution_count": 126,
      "outputs": []
    },
    {
      "cell_type": "markdown",
      "source": [
        "# Preprocessor"
      ],
      "metadata": {
        "id": "Sx-jpDfpYZbW"
      }
    },
    {
      "cell_type": "code",
      "source": [
        "preprocessor =  ColumnTransformer(transformers=[\n",
        "    (\"num_features\",numerical_transformer, [\"Age\", 'RoomService','FoodCourt', 'ShoppingMall','Spa','VRDeck']),\n",
        "    ('ord_features',ordinal_transformer, [\"CryoSleep\",'VIP']),\n",
        "    ('nom_features',norminal_transformer, ['HomePlanet', 'Destination'])\n",
        "])"
      ],
      "metadata": {
        "id": "3w0_h7mSYdZ_"
      },
      "execution_count": 127,
      "outputs": []
    },
    {
      "cell_type": "markdown",
      "source": [
        "#pipeline"
      ],
      "metadata": {
        "id": "e_JoMHUFacVj"
      }
    },
    {
      "cell_type": "code",
      "source": [
        "cls_lazy = Pipeline(steps=[\n",
        "    ('preprocessor', preprocessor),\n",
        "    # ('model', RandomForestRegressor())\n",
        "])"
      ],
      "metadata": {
        "id": "UQ-NmtSzYvUW"
      },
      "execution_count": 135,
      "outputs": []
    },
    {
      "cell_type": "markdown",
      "source": [
        "# LazyPredict"
      ],
      "metadata": {
        "id": "5jvgyVvxh38j"
      }
    },
    {
      "cell_type": "code",
      "source": [
        "X_train = cls_lazy.fit_transform((X_train))\n",
        "X_test = cls_lazy.transform(X_test)\n",
        "clf = LazyClassifier(verbose=0,ignore_warnings=True, custom_metric=None)\n",
        "models, predictions = clf.fit(X_train, X_test, y_train, y_test)\n",
        "print(models)"
      ],
      "metadata": {
        "colab": {
          "base_uri": "https://localhost:8080/"
        },
        "id": "pLTrrjAWae6L",
        "outputId": "eee9be0d-753b-4399-f3f0-deaaa86c54c0"
      },
      "execution_count": 136,
      "outputs": [
        {
          "output_type": "stream",
          "name": "stderr",
          "text": [
            "100%|██████████| 29/29 [00:30<00:00,  1.04s/it]"
          ]
        },
        {
          "output_type": "stream",
          "name": "stdout",
          "text": [
            "[LightGBM] [Info] Number of positive: 3500, number of negative: 3454\n",
            "[LightGBM] [Warning] Auto-choosing row-wise multi-threading, the overhead of testing was 0.001013 seconds.\n",
            "You can set `force_row_wise=true` to remove the overhead.\n",
            "And if memory is not enough, you can set `force_col_wise=true`.\n",
            "[LightGBM] [Info] Total Bins 1378\n",
            "[LightGBM] [Info] Number of data points in the train set: 6954, number of used features: 14\n",
            "[LightGBM] [Info] [binary:BoostFromScore]: pavg=0.503307 -> initscore=0.013230\n",
            "[LightGBM] [Info] Start training from score 0.013230\n",
            "                               Accuracy  Balanced Accuracy  ROC AUC  F1 Score  \\\n",
            "Model                                                                           \n",
            "XGBClassifier                      0.79               0.79     0.79      0.79   \n",
            "LGBMClassifier                     0.79               0.79     0.79      0.79   \n",
            "SGDClassifier                      0.78               0.78     0.78      0.78   \n",
            "SVC                                0.78               0.78     0.78      0.78   \n",
            "RandomForestClassifier             0.78               0.78     0.78      0.78   \n",
            "NuSVC                              0.78               0.78     0.78      0.78   \n",
            "AdaBoostClassifier                 0.78               0.78     0.78      0.78   \n",
            "LogisticRegression                 0.78               0.78     0.78      0.78   \n",
            "LinearSVC                          0.77               0.77     0.77      0.77   \n",
            "CalibratedClassifierCV             0.77               0.77     0.77      0.77   \n",
            "ExtraTreesClassifier               0.77               0.77     0.77      0.77   \n",
            "BaggingClassifier                  0.77               0.77     0.77      0.77   \n",
            "KNeighborsClassifier               0.77               0.77     0.77      0.77   \n",
            "LabelSpreading                     0.77               0.76     0.76      0.76   \n",
            "LabelPropagation                   0.76               0.76     0.76      0.76   \n",
            "NearestCentroid                    0.75               0.75     0.75      0.75   \n",
            "LinearDiscriminantAnalysis         0.75               0.75     0.75      0.75   \n",
            "RidgeClassifier                    0.75               0.75     0.75      0.75   \n",
            "RidgeClassifierCV                  0.75               0.75     0.75      0.75   \n",
            "BernoulliNB                        0.75               0.75     0.75      0.75   \n",
            "ExtraTreeClassifier                0.73               0.73     0.73      0.73   \n",
            "QuadraticDiscriminantAnalysis      0.73               0.73     0.73      0.72   \n",
            "DecisionTreeClassifier             0.73               0.72     0.72      0.72   \n",
            "GaussianNB                         0.72               0.71     0.71      0.70   \n",
            "PassiveAggressiveClassifier        0.69               0.69     0.69      0.69   \n",
            "Perceptron                         0.64               0.64     0.64      0.64   \n",
            "DummyClassifier                    0.50               0.50     0.50      0.34   \n",
            "\n",
            "                               Time Taken  \n",
            "Model                                      \n",
            "XGBClassifier                        0.71  \n",
            "LGBMClassifier                       0.21  \n",
            "SGDClassifier                        0.12  \n",
            "SVC                                  2.61  \n",
            "RandomForestClassifier               1.37  \n",
            "NuSVC                                9.82  \n",
            "AdaBoostClassifier                   0.35  \n",
            "LogisticRegression                   0.15  \n",
            "LinearSVC                            2.10  \n",
            "CalibratedClassifierCV               2.22  \n",
            "ExtraTreesClassifier                 0.71  \n",
            "BaggingClassifier                    0.25  \n",
            "KNeighborsClassifier                 0.24  \n",
            "LabelSpreading                       5.40  \n",
            "LabelPropagation                     2.87  \n",
            "NearestCentroid                      0.12  \n",
            "LinearDiscriminantAnalysis           0.14  \n",
            "RidgeClassifier                      0.04  \n",
            "RidgeClassifierCV                    0.08  \n",
            "BernoulliNB                          0.03  \n",
            "ExtraTreeClassifier                  0.03  \n",
            "QuadraticDiscriminantAnalysis        0.10  \n",
            "DecisionTreeClassifier               0.07  \n",
            "GaussianNB                           0.03  \n",
            "PassiveAggressiveClassifier          0.13  \n",
            "Perceptron                           0.15  \n",
            "DummyClassifier                      0.03  \n"
          ]
        },
        {
          "output_type": "stream",
          "name": "stderr",
          "text": [
            "\n"
          ]
        }
      ]
    },
    {
      "cell_type": "markdown",
      "source": [
        "# GridSearch"
      ],
      "metadata": {
        "id": "gn0-xAVwi3hP"
      }
    },
    {
      "cell_type": "code",
      "source": [
        "# Logistic Regression\n",
        "# LGBMClassifier\n",
        "# RandomForestClassifier"
      ],
      "metadata": {
        "id": "kgzIgPCnjUcF"
      },
      "execution_count": null,
      "outputs": []
    },
    {
      "cell_type": "code",
      "source": [
        "cls = Pipeline(steps=[\n",
        "    ('preprocessor', preprocessor),\n",
        "    ('model', LogisticRegression())\n",
        "    # ('model', RandomForestClassifier())\n",
        "\n",
        "])"
      ],
      "metadata": {
        "id": "7M3YxnIKkgel"
      },
      "execution_count": 156,
      "outputs": []
    },
    {
      "cell_type": "code",
      "source": [
        "# Logistic regression parameters\n",
        "lr_params = {\n",
        "    \"model__penalty\":['l1', 'l2', 'elasticnet', None],\n",
        "    \"model__solver\":['lbfgs', 'liblinear', 'newton-cg', 'newton-cholesky', 'sag', 'saga']\n",
        "}"
      ],
      "metadata": {
        "id": "lLcNikJpj_Nn"
      },
      "execution_count": 141,
      "outputs": []
    },
    {
      "cell_type": "code",
      "source": [
        "#  RandomForestClassifier parameters\n",
        "rf_params = {\n",
        "    \"model__criterion\": [\"gini\", \"entropy\", \"log_loss\"],\n",
        "    \"model__max_features\": [\"sqrt\", \"log2\", None],\n",
        "}"
      ],
      "metadata": {
        "id": "XxBSzsfNbiVh"
      },
      "execution_count": 142,
      "outputs": []
    },
    {
      "cell_type": "code",
      "source": [
        "grid_cls = GridSearchCV(cls, param_grid=lr_params, cv = 6, verbose=2)\n",
        "grid_cls.fit(X_train, y_train)\n",
        "y_predict = grid_cls.predict(X_test)\n",
        "print(classification_report(y_test, y_predict))\n"
      ],
      "metadata": {
        "colab": {
          "base_uri": "https://localhost:8080/"
        },
        "id": "Bb0TKW-yaXfn",
        "outputId": "ecdeb931-5940-41b4-a775-e33215dfe726"
      },
      "execution_count": 157,
      "outputs": [
        {
          "output_type": "stream",
          "name": "stdout",
          "text": [
            "Fitting 6 folds for each of 24 candidates, totalling 144 fits\n",
            "[CV] END .............model__penalty=l1, model__solver=lbfgs; total time=   0.0s\n",
            "[CV] END .............model__penalty=l1, model__solver=lbfgs; total time=   0.0s\n",
            "[CV] END .............model__penalty=l1, model__solver=lbfgs; total time=   0.0s\n",
            "[CV] END .............model__penalty=l1, model__solver=lbfgs; total time=   0.0s\n",
            "[CV] END .............model__penalty=l1, model__solver=lbfgs; total time=   0.0s\n",
            "[CV] END .............model__penalty=l1, model__solver=lbfgs; total time=   0.0s\n",
            "[CV] END .........model__penalty=l1, model__solver=liblinear; total time=   0.1s\n",
            "[CV] END .........model__penalty=l1, model__solver=liblinear; total time=   0.1s\n",
            "[CV] END .........model__penalty=l1, model__solver=liblinear; total time=   0.1s\n",
            "[CV] END .........model__penalty=l1, model__solver=liblinear; total time=   0.1s\n",
            "[CV] END .........model__penalty=l1, model__solver=liblinear; total time=   0.1s\n",
            "[CV] END .........model__penalty=l1, model__solver=liblinear; total time=   0.1s\n",
            "[CV] END .........model__penalty=l1, model__solver=newton-cg; total time=   0.0s\n",
            "[CV] END .........model__penalty=l1, model__solver=newton-cg; total time=   0.0s\n",
            "[CV] END .........model__penalty=l1, model__solver=newton-cg; total time=   0.0s\n",
            "[CV] END .........model__penalty=l1, model__solver=newton-cg; total time=   0.0s\n",
            "[CV] END .........model__penalty=l1, model__solver=newton-cg; total time=   0.0s\n",
            "[CV] END .........model__penalty=l1, model__solver=newton-cg; total time=   0.0s\n",
            "[CV] END ...model__penalty=l1, model__solver=newton-cholesky; total time=   0.0s\n",
            "[CV] END ...model__penalty=l1, model__solver=newton-cholesky; total time=   0.0s\n",
            "[CV] END ...model__penalty=l1, model__solver=newton-cholesky; total time=   0.0s\n",
            "[CV] END ...model__penalty=l1, model__solver=newton-cholesky; total time=   0.0s\n",
            "[CV] END ...model__penalty=l1, model__solver=newton-cholesky; total time=   0.0s\n",
            "[CV] END ...model__penalty=l1, model__solver=newton-cholesky; total time=   0.0s\n",
            "[CV] END ...............model__penalty=l1, model__solver=sag; total time=   0.0s\n",
            "[CV] END ...............model__penalty=l1, model__solver=sag; total time=   0.0s\n",
            "[CV] END ...............model__penalty=l1, model__solver=sag; total time=   0.0s\n",
            "[CV] END ...............model__penalty=l1, model__solver=sag; total time=   0.0s\n",
            "[CV] END ...............model__penalty=l1, model__solver=sag; total time=   0.0s\n",
            "[CV] END ...............model__penalty=l1, model__solver=sag; total time=   0.0s\n",
            "[CV] END ..............model__penalty=l1, model__solver=saga; total time=   0.2s\n",
            "[CV] END ..............model__penalty=l1, model__solver=saga; total time=   0.3s\n",
            "[CV] END ..............model__penalty=l1, model__solver=saga; total time=   0.4s\n",
            "[CV] END ..............model__penalty=l1, model__solver=saga; total time=   0.5s\n",
            "[CV] END ..............model__penalty=l1, model__solver=saga; total time=   0.5s\n",
            "[CV] END ..............model__penalty=l1, model__solver=saga; total time=   0.5s\n",
            "[CV] END .............model__penalty=l2, model__solver=lbfgs; total time=   0.2s\n",
            "[CV] END .............model__penalty=l2, model__solver=lbfgs; total time=   0.2s\n",
            "[CV] END .............model__penalty=l2, model__solver=lbfgs; total time=   0.2s\n",
            "[CV] END .............model__penalty=l2, model__solver=lbfgs; total time=   0.2s\n",
            "[CV] END .............model__penalty=l2, model__solver=lbfgs; total time=   0.2s\n",
            "[CV] END .............model__penalty=l2, model__solver=lbfgs; total time=   0.2s\n",
            "[CV] END .........model__penalty=l2, model__solver=liblinear; total time=   0.2s\n",
            "[CV] END .........model__penalty=l2, model__solver=liblinear; total time=   0.2s\n",
            "[CV] END .........model__penalty=l2, model__solver=liblinear; total time=   0.1s\n",
            "[CV] END .........model__penalty=l2, model__solver=liblinear; total time=   0.1s\n",
            "[CV] END .........model__penalty=l2, model__solver=liblinear; total time=   0.2s\n",
            "[CV] END .........model__penalty=l2, model__solver=liblinear; total time=   0.1s\n",
            "[CV] END .........model__penalty=l2, model__solver=newton-cg; total time=   0.2s\n",
            "[CV] END .........model__penalty=l2, model__solver=newton-cg; total time=   0.3s\n",
            "[CV] END .........model__penalty=l2, model__solver=newton-cg; total time=   0.2s\n",
            "[CV] END .........model__penalty=l2, model__solver=newton-cg; total time=   0.3s\n",
            "[CV] END .........model__penalty=l2, model__solver=newton-cg; total time=   0.2s\n",
            "[CV] END .........model__penalty=l2, model__solver=newton-cg; total time=   0.1s\n",
            "[CV] END ...model__penalty=l2, model__solver=newton-cholesky; total time=   0.1s\n",
            "[CV] END ...model__penalty=l2, model__solver=newton-cholesky; total time=   0.1s\n",
            "[CV] END ...model__penalty=l2, model__solver=newton-cholesky; total time=   0.1s\n",
            "[CV] END ...model__penalty=l2, model__solver=newton-cholesky; total time=   0.1s\n",
            "[CV] END ...model__penalty=l2, model__solver=newton-cholesky; total time=   0.1s\n",
            "[CV] END ...model__penalty=l2, model__solver=newton-cholesky; total time=   0.1s\n",
            "[CV] END ...............model__penalty=l2, model__solver=sag; total time=   0.2s\n",
            "[CV] END ...............model__penalty=l2, model__solver=sag; total time=   0.2s\n",
            "[CV] END ...............model__penalty=l2, model__solver=sag; total time=   0.2s\n",
            "[CV] END ...............model__penalty=l2, model__solver=sag; total time=   0.2s\n",
            "[CV] END ...............model__penalty=l2, model__solver=sag; total time=   0.2s\n",
            "[CV] END ...............model__penalty=l2, model__solver=sag; total time=   0.2s\n",
            "[CV] END ..............model__penalty=l2, model__solver=saga; total time=   0.2s\n",
            "[CV] END ..............model__penalty=l2, model__solver=saga; total time=   0.2s\n",
            "[CV] END ..............model__penalty=l2, model__solver=saga; total time=   0.2s\n",
            "[CV] END ..............model__penalty=l2, model__solver=saga; total time=   0.2s\n",
            "[CV] END ..............model__penalty=l2, model__solver=saga; total time=   0.2s\n",
            "[CV] END ..............model__penalty=l2, model__solver=saga; total time=   0.2s\n",
            "[CV] END .....model__penalty=elasticnet, model__solver=lbfgs; total time=   0.0s\n",
            "[CV] END .....model__penalty=elasticnet, model__solver=lbfgs; total time=   0.0s\n",
            "[CV] END .....model__penalty=elasticnet, model__solver=lbfgs; total time=   0.0s\n",
            "[CV] END .....model__penalty=elasticnet, model__solver=lbfgs; total time=   0.0s\n",
            "[CV] END .....model__penalty=elasticnet, model__solver=lbfgs; total time=   0.0s\n",
            "[CV] END .....model__penalty=elasticnet, model__solver=lbfgs; total time=   0.0s\n",
            "[CV] END .model__penalty=elasticnet, model__solver=liblinear; total time=   0.0s\n",
            "[CV] END .model__penalty=elasticnet, model__solver=liblinear; total time=   0.0s\n",
            "[CV] END .model__penalty=elasticnet, model__solver=liblinear; total time=   0.0s\n",
            "[CV] END .model__penalty=elasticnet, model__solver=liblinear; total time=   0.0s\n",
            "[CV] END .model__penalty=elasticnet, model__solver=liblinear; total time=   0.0s\n",
            "[CV] END .model__penalty=elasticnet, model__solver=liblinear; total time=   0.0s\n",
            "[CV] END .model__penalty=elasticnet, model__solver=newton-cg; total time=   0.0s\n",
            "[CV] END .model__penalty=elasticnet, model__solver=newton-cg; total time=   0.0s\n",
            "[CV] END .model__penalty=elasticnet, model__solver=newton-cg; total time=   0.0s\n",
            "[CV] END .model__penalty=elasticnet, model__solver=newton-cg; total time=   0.0s\n",
            "[CV] END .model__penalty=elasticnet, model__solver=newton-cg; total time=   0.0s\n",
            "[CV] END .model__penalty=elasticnet, model__solver=newton-cg; total time=   0.0s\n",
            "[CV] END model__penalty=elasticnet, model__solver=newton-cholesky; total time=   0.0s\n",
            "[CV] END model__penalty=elasticnet, model__solver=newton-cholesky; total time=   0.0s\n",
            "[CV] END model__penalty=elasticnet, model__solver=newton-cholesky; total time=   0.0s\n",
            "[CV] END model__penalty=elasticnet, model__solver=newton-cholesky; total time=   0.0s\n",
            "[CV] END model__penalty=elasticnet, model__solver=newton-cholesky; total time=   0.0s\n",
            "[CV] END model__penalty=elasticnet, model__solver=newton-cholesky; total time=   0.0s\n",
            "[CV] END .......model__penalty=elasticnet, model__solver=sag; total time=   0.0s\n",
            "[CV] END .......model__penalty=elasticnet, model__solver=sag; total time=   0.0s\n",
            "[CV] END .......model__penalty=elasticnet, model__solver=sag; total time=   0.0s\n",
            "[CV] END .......model__penalty=elasticnet, model__solver=sag; total time=   0.0s\n",
            "[CV] END .......model__penalty=elasticnet, model__solver=sag; total time=   0.0s\n",
            "[CV] END .......model__penalty=elasticnet, model__solver=sag; total time=   0.0s\n",
            "[CV] END ......model__penalty=elasticnet, model__solver=saga; total time=   0.0s\n",
            "[CV] END ......model__penalty=elasticnet, model__solver=saga; total time=   0.0s\n",
            "[CV] END ......model__penalty=elasticnet, model__solver=saga; total time=   0.0s\n",
            "[CV] END ......model__penalty=elasticnet, model__solver=saga; total time=   0.0s\n",
            "[CV] END ......model__penalty=elasticnet, model__solver=saga; total time=   0.0s\n",
            "[CV] END ......model__penalty=elasticnet, model__solver=saga; total time=   0.0s\n",
            "[CV] END ...........model__penalty=None, model__solver=lbfgs; total time=   0.1s\n",
            "[CV] END ...........model__penalty=None, model__solver=lbfgs; total time=   0.1s\n",
            "[CV] END ...........model__penalty=None, model__solver=lbfgs; total time=   0.1s\n",
            "[CV] END ...........model__penalty=None, model__solver=lbfgs; total time=   0.1s\n",
            "[CV] END ...........model__penalty=None, model__solver=lbfgs; total time=   0.1s\n",
            "[CV] END ...........model__penalty=None, model__solver=lbfgs; total time=   0.1s\n",
            "[CV] END .......model__penalty=None, model__solver=liblinear; total time=   0.0s\n",
            "[CV] END .......model__penalty=None, model__solver=liblinear; total time=   0.1s\n",
            "[CV] END .......model__penalty=None, model__solver=liblinear; total time=   0.0s\n",
            "[CV] END .......model__penalty=None, model__solver=liblinear; total time=   0.0s\n",
            "[CV] END .......model__penalty=None, model__solver=liblinear; total time=   0.0s\n",
            "[CV] END .......model__penalty=None, model__solver=liblinear; total time=   0.0s\n",
            "[CV] END .......model__penalty=None, model__solver=newton-cg; total time=   0.1s\n",
            "[CV] END .......model__penalty=None, model__solver=newton-cg; total time=   0.2s\n",
            "[CV] END .......model__penalty=None, model__solver=newton-cg; total time=   0.1s\n",
            "[CV] END .......model__penalty=None, model__solver=newton-cg; total time=   0.1s\n",
            "[CV] END .......model__penalty=None, model__solver=newton-cg; total time=   0.1s\n",
            "[CV] END .......model__penalty=None, model__solver=newton-cg; total time=   0.1s\n",
            "[CV] END .model__penalty=None, model__solver=newton-cholesky; total time=   0.1s\n",
            "[CV] END .model__penalty=None, model__solver=newton-cholesky; total time=   0.1s\n",
            "[CV] END .model__penalty=None, model__solver=newton-cholesky; total time=   0.1s\n",
            "[CV] END .model__penalty=None, model__solver=newton-cholesky; total time=   0.1s\n",
            "[CV] END .model__penalty=None, model__solver=newton-cholesky; total time=   0.1s\n",
            "[CV] END .model__penalty=None, model__solver=newton-cholesky; total time=   0.1s\n",
            "[CV] END .............model__penalty=None, model__solver=sag; total time=   0.3s\n",
            "[CV] END .............model__penalty=None, model__solver=sag; total time=   0.1s\n",
            "[CV] END .............model__penalty=None, model__solver=sag; total time=   0.2s\n",
            "[CV] END .............model__penalty=None, model__solver=sag; total time=   0.2s\n",
            "[CV] END .............model__penalty=None, model__solver=sag; total time=   0.2s\n",
            "[CV] END .............model__penalty=None, model__solver=sag; total time=   0.2s\n",
            "[CV] END ............model__penalty=None, model__solver=saga; total time=   0.2s\n",
            "[CV] END ............model__penalty=None, model__solver=saga; total time=   0.2s\n",
            "[CV] END ............model__penalty=None, model__solver=saga; total time=   0.3s\n",
            "[CV] END ............model__penalty=None, model__solver=saga; total time=   0.2s\n",
            "[CV] END ............model__penalty=None, model__solver=saga; total time=   0.2s\n",
            "[CV] END ............model__penalty=None, model__solver=saga; total time=   0.2s\n",
            "              precision    recall  f1-score   support\n",
            "\n",
            "       False       0.79      0.74      0.77       861\n",
            "        True       0.76      0.81      0.78       878\n",
            "\n",
            "    accuracy                           0.78      1739\n",
            "   macro avg       0.78      0.78      0.78      1739\n",
            "weighted avg       0.78      0.78      0.78      1739\n",
            "\n"
          ]
        }
      ]
    },
    {
      "cell_type": "code",
      "source": [
        "submission_pred=grid_cls.predict(test)"
      ],
      "metadata": {
        "id": "xFmlrTxUcRS_"
      },
      "execution_count": 158,
      "outputs": []
    },
    {
      "cell_type": "code",
      "source": [
        "submission_pred.shape"
      ],
      "metadata": {
        "colab": {
          "base_uri": "https://localhost:8080/"
        },
        "id": "0ZoPZH6Toa0N",
        "outputId": "c634bf0f-2957-4b12-b88b-3e481e7137e9"
      },
      "execution_count": 159,
      "outputs": [
        {
          "output_type": "execute_result",
          "data": {
            "text/plain": [
              "(4277,)"
            ]
          },
          "metadata": {},
          "execution_count": 159
        }
      ]
    },
    {
      "cell_type": "code",
      "source": [
        "test_ids=test['PassengerId']\n",
        "test_ids.shape"
      ],
      "metadata": {
        "colab": {
          "base_uri": "https://localhost:8080/"
        },
        "id": "8WVy5ZOaobcO",
        "outputId": "184c7a4b-d4fa-4ee0-819f-1dbe90a41442"
      },
      "execution_count": 161,
      "outputs": [
        {
          "output_type": "execute_result",
          "data": {
            "text/plain": [
              "(4277,)"
            ]
          },
          "metadata": {},
          "execution_count": 161
        }
      ]
    },
    {
      "cell_type": "code",
      "source": [
        "submission_pred=submission_pred.astype(bool)"
      ],
      "metadata": {
        "id": "K1vR7vNKocuD"
      },
      "execution_count": 162,
      "outputs": []
    },
    {
      "cell_type": "code",
      "source": [
        "df=pd.DataFrame({'PassengerId':test_ids.values,'Transported':submission_pred})"
      ],
      "metadata": {
        "id": "dIyBVvxUouL8"
      },
      "execution_count": 163,
      "outputs": []
    },
    {
      "cell_type": "code",
      "source": [
        "df.to_csv(\"/content/drive/MyDrive/Data Science/Kaggle Competition/Spaceship_titanic/Submission.csv\",index=False)"
      ],
      "metadata": {
        "id": "X3-Ss-QBouu1"
      },
      "execution_count": 165,
      "outputs": []
    },
    {
      "cell_type": "code",
      "source": [],
      "metadata": {
        "id": "hh5ihsOFoxDn"
      },
      "execution_count": null,
      "outputs": []
    }
  ]
}